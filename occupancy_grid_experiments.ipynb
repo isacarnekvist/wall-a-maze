{
 "cells": [
  {
   "cell_type": "code",
   "execution_count": 1,
   "metadata": {
    "collapsed": true
   },
   "outputs": [],
   "source": [
    "from __future__ import print_function\n",
    "import numpy as np\n",
    "\n",
    "import matplotlib.pyplot as plt"
   ]
  },
  {
   "cell_type": "code",
   "execution_count": 2,
   "metadata": {
    "collapsed": false,
    "scrolled": false
   },
   "outputs": [
    {
     "data": {
      "image/png": "[encoded data removed]",
      "text/plain": [
       "<matplotlib.figure.Figure at 0x107035ad0>"
      ]
     },
     "metadata": {},
     "output_type": "display_data"
    },
    {
     "data": {
      "image/png": "[encoded data removed]",
      "text/plain": [
       "<matplotlib.figure.Figure at 0x10721cd90>"
      ]
     },
     "metadata": {},
     "output_type": "display_data"
    }
   ],
   "source": [
    "class OccupancyGrid:\n",
    "    \n",
    "    def __init__(self, x_min, x_max, y_min, y_max, cell_width, padding):\n",
    "        \"\"\"\n",
    "        Parameters\n",
    "        ==========\n",
    "        cell_width : float\n",
    "            the resolution of the grid map, in meters\n",
    "        padding : float\n",
    "            the extra space to add outside the map, in meters\n",
    "        \"\"\"\n",
    "        self.x_min = x_min\n",
    "        self.y_min = y_min\n",
    "        self.x_max = x_max\n",
    "        self.y_max = y_max\n",
    "        self.padding = padding\n",
    "        self.cell_width = cell_width\n",
    "        self.n_width = int((x_max - x_min) / cell_width + 1)\n",
    "        self.n_height = int((y_max - y_min) / cell_width + 1)\n",
    "        self._grid = np.zeros((self.n_height, self.n_width))\n",
    "        \n",
    "    def occupy_line(self, x1, y1, x2, y2):\n",
    "        a = np.array([x1, y1])\n",
    "        v = np.array([x2 - x1, y2 - y1])\n",
    "        for t in np.linspace(0, 1, self.n_width + self.n_height):\n",
    "            p = a + t * v\n",
    "            self.occupy(p[0], p[1])\n",
    "            \n",
    "    def expand_obstacles(self, w):\n",
    "        if w > self.padding:\n",
    "            raise ValueError('Padding needs to be > expand size atm')\n",
    "        grid_copy = self._grid + 0\n",
    "        for degree in np.linspace(0, 2 * np.pi, 40):\n",
    "            x_displace = int(np.cos(degree) * w / self.cell_width)\n",
    "            y_displace = int(np.sin(degree) * w / self.cell_width)\n",
    "            x_shifted = np.roll(grid_copy, x_displace, axis=0)\n",
    "            shifted = np.roll(x_shifted, y_displace, axis=1)\n",
    "            self._grid += shifted\n",
    "                    \n",
    "        self._grid[self._grid > 0] = 1\n",
    "        \n",
    "    def occupy(self, x, y):\n",
    "        x_ind, y_ind = self.coord_to_inds(x, y)\n",
    "        self._grid[y_ind, x_ind] = 1.0\n",
    "    \n",
    "    def coord_to_inds(self, x, y):\n",
    "        x_ind = int((x + self.padding + self.cell_width / 2) / self.cell_width)\n",
    "        y_ind = int((y + self.padding + self.cell_width / 2) / self.cell_width)\n",
    "        return x_ind, y_ind\n",
    "    \n",
    "    def inds_to_coords(self, x, y):\n",
    "        return (\n",
    "            x * self.cell_width + self.padding,\n",
    "            y * self.cell_width + self.padding\n",
    "        )\n",
    "    \n",
    "    def plot(self):\n",
    "        plt.matshow(-self._grid, origin='lower', cmap='gray')\n",
    "        plt.show()\n",
    "        \n",
    "        \n",
    "def lines_to_grid(lines, cell_width=0.04, padding=0.4):\n",
    "    x_max = -np.inf\n",
    "    x_min = np.inf\n",
    "    y_max = -np.inf\n",
    "    y_min = np.inf\n",
    "    for x1, y1, x2, y2 in lines:\n",
    "        x_max = max(x1 + padding, x2 + padding, x_max)\n",
    "        x_min = min(x1 - padding, x2 - padding, x_min)\n",
    "        y_max = max(y1 + padding, y2 + padding, y_max)\n",
    "        y_min = min(y1 - padding, y2 - padding, y_min)\n",
    "    o = OccupancyGrid(x_min, x_max, y_min, y_max, cell_width, padding)\n",
    "    for x1, y1, x2, y2 in lines:\n",
    "        o.occupy_line(x1, y1, x2, y2)\n",
    "    return o\n",
    "    \n",
    "with open('src/localization/scripts/map.txt') as f:\n",
    "    lines = []\n",
    "    for line in f:\n",
    "        if line[0] == '#':\n",
    "            continue\n",
    "        lines.append(map(float, (line.split())))\n",
    "    o = lines_to_grid(lines)\n",
    "    o.plot()\n",
    "    o.expand_obstacles(0.2)\n",
    "    o.plot()"
   ]
  }
 ],
 "metadata": {
  "kernelspec": {
   "display_name": "Python 2",
   "language": "python",
   "name": "python2"
  },
  "language_info": {
   "codemirror_mode": {
    "name": "ipython",
    "version": 2
   },
   "file_extension": ".py",
   "mimetype": "text/x-python",
   "name": "python",
   "nbconvert_exporter": "python",
   "pygments_lexer": "ipython2",
   "version": "2.7.12"
  }
 },
 "nbformat": 4,
 "nbformat_minor": 1
}
