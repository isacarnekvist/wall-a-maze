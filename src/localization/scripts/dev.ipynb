{
 "cells": [
  {
   "cell_type": "code",
   "execution_count": 1,
   "metadata": {
    "collapsed": false
   },
   "outputs": [],
   "source": [
    "from math import cos, sin, pi\n",
    "\n",
    "import numpy as np\n",
    "from numpy import inf\n",
    "import matplotlib.pyplot as plt"
   ]
  },
  {
   "cell_type": "code",
   "execution_count": 56,
   "metadata": {
    "collapsed": false
   },
   "outputs": [
    {
     "data": {
      "image/png": "[encoded data removed]",
      "text/plain": [
       "<matplotlib.figure.Figure at 0x1040322d0>"
      ]
     },
     "metadata": {},
     "output_type": "display_data"
    }
   ],
   "source": [
    "class Map:\n",
    "    \n",
    "    def __init__(self, map_path=None):\n",
    "        self.edges = []\n",
    "\n",
    "        # Read map from text file\n",
    "        if map_path:\n",
    "            with open(map_path) as f:\n",
    "                for line in f:\n",
    "                    if line[0] == '#':\n",
    "                        continue\n",
    "                    self.add_edge(*[float(c) for c in line.split()])\n",
    "                    \n",
    "    def add_obstacle(self, obstacle):\n",
    "        pass\n",
    "    \n",
    "    def plot(self):\n",
    "        for x1, y1, x2, y2 in self.edges:\n",
    "            plt.plot([x1, x2], [y1, y2], 'b')\n",
    "    \n",
    "    def add_edge(self, x1, y1, x2, y2):\n",
    "        self.edges.append((x1, y1, x2, y2))\n",
    "        \n",
    "    def scan_one(self, x, y, theta, alpha):\n",
    "        \"\"\"returns distances for one angle\n",
    "        x, y: float\n",
    "             position in meters\n",
    "        theta: float\n",
    "            robot rotation in radians\n",
    "        alpha: float\n",
    "            in what direction, relative to robot, to scan\n",
    "        \"\"\"\n",
    "        n = len(self.edges)\n",
    "        distances = np.zeros(n)\n",
    "        for i, edge in enumerate(self.edges):\n",
    "            dist = self._distance(x, y, theta, alpha, *edge)\n",
    "            distances[i] = dist\n",
    "        \n",
    "        return np.min(distances)\n",
    "    \n",
    "    def _distance(self, x1, x2, theta, alpha, a1, a2, b1, b2):\n",
    "        \"\"\"\n",
    "        Returns distance given one position, one edge, and an angle alpha\n",
    "        \"\"\"\n",
    "        a = np.array([[a1, a2]]).T\n",
    "        b = np.array([[b1, b2]]).T\n",
    "        x = np.array([[x1, x2]]).T\n",
    "        try:\n",
    "            k = 1.0 / ((a2 - b2) * cos(theta + alpha) + sin(theta + alpha) * (b1 - a1))\n",
    "            A = np.array([\n",
    "                [ a2 - b2   , b1 - a1   ],\n",
    "                [-sin(theta + alpha), cos(theta + alpha)]\n",
    "            ])\n",
    "            s, t = (k * np.dot(A, (a - x))).flatten()\n",
    "            if 0 <= t <= 1 and 0 < s:\n",
    "                return s\n",
    "        except ZeroDivisionError:\n",
    "            pass\n",
    "        return np.inf\n",
    "        \n",
    "m = Map(map_path='map.txt')\n",
    "\n",
    "def angle_to_rad(angle):\n",
    "    return np.pi * angle / 180.0\n",
    "\n",
    "x, y = 0.2, 0.2\n",
    "alpha, theta = angle_to_rad(-45), angle_to_rad(45)\n",
    "distance = m.scan_one(x, y, theta, alpha)\n",
    "plt.plot(x + distance * cos(alpha + theta), y + distance * sin(alpha + theta), 'r*')\n",
    "m.plot()\n",
    "plt.plot(x, y, 'ko')\n",
    "plt.xlim((-1, 4))\n",
    "plt.ylim((-1, 4))\n",
    "plt.show()"
   ]
  },
  {
   "cell_type": "code",
   "execution_count": 105,
   "metadata": {
    "collapsed": false
   },
   "outputs": [],
   "source": [
    "class Particle:\n",
    "    \n",
    "    def __init__(self, x, y, theta):\n",
    "        self.x = x\n",
    "        self.y = y\n",
    "        self.theta = theta\n",
    "        \n",
    "    def update(self, delta_forward, delta_theta):\n",
    "        self.theta += delta_theta + np.random.normal(0, 0.08)\n",
    "        forward_noise = np.random.normal(0, 0.03)\n",
    "        self.x += np.cos(self.theta) * delta_forward + forward_noise\n",
    "        self.y += np.sin(self.theta) * delta_forward + forward_noise\n",
    "        \n",
    "    def plot(self):\n",
    "        plt.plot(self.x, self.y, 'k.')\n",
    "    \n",
    "    def __repr__(self):\n",
    "        return 'Particle at: {} {} {}'.format(self.x, self.y, self.theta)"
   ]
  },
  {
   "cell_type": "code",
   "execution_count": 112,
   "metadata": {
    "collapsed": false
   },
   "outputs": [
    {
     "data": {
      "image/png": "[encoded data removed]",
      "text/plain": [
       "<matplotlib.figure.Figure at 0x105798310>"
      ]
     },
     "metadata": {},
     "output_type": "display_data"
    }
   ],
   "source": [
    "ps = [Particle(1, 1, 0) for _ in range(32)]\n",
    "plt.xlim((-0.2, 3))\n",
    "plt.ylim((-0.2, 3))\n",
    "m.plot()\n",
    "p.plot()\n",
    "for i in range(4):\n",
    "    map(lambda p: p.update(0.4, 0.2), ps)\n",
    "    map(lambda p: p.plot(), ps)\n",
    "    p.plot()\n",
    "plt.show()"
   ]
  },
  {
   "cell_type": "code",
   "execution_count": null,
   "metadata": {
    "collapsed": true
   },
   "outputs": [],
   "source": []
  }
 ],
 "metadata": {
  "kernelspec": {
   "display_name": "Python 2",
   "language": "python",
   "name": "python2"
  },
  "language_info": {
   "codemirror_mode": {
    "name": "ipython",
    "version": 2
   },
   "file_extension": ".py",
   "mimetype": "text/x-python",
   "name": "python",
   "nbconvert_exporter": "python",
   "pygments_lexer": "ipython2",
   "version": "2.7.12"
  }
 },
 "nbformat": 4,
 "nbformat_minor": 1
}
